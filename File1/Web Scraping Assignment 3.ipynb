{
 "cells": [
  {
   "cell_type": "code",
   "execution_count": 1,
   "id": "5c3afaf5",
   "metadata": {},
   "outputs": [],
   "source": [
    "import selenium\n",
    "import pandas as pd \n",
    "import numpy as np\n",
    "from selenium import webdriver\n",
    "from selenium.webdriver.common.by import By\n",
    "import warnings \n",
    "warnings.filterwarnings('ignore')\n",
    "import time\n",
    "import requests\n",
    "from selenium.common.exceptions import NoSuchElementException, StaleElementReferenceException"
   ]
  },
  {
   "cell_type": "markdown",
   "id": "1f744196",
   "metadata": {},
   "source": [
    "### 1. Write a python program which searches all the product under a particular product from www.amazon.in. The product to be searched will be taken as input from user. For e.g. If user input is ‘guitar’. Then search for guitars."
   ]
  },
  {
   "cell_type": "code",
   "execution_count": 2,
   "id": "9dd7bbc6",
   "metadata": {},
   "outputs": [],
   "source": [
    "driver=webdriver.Chrome()"
   ]
  },
  {
   "cell_type": "code",
   "execution_count": 3,
   "id": "b94b97a8",
   "metadata": {},
   "outputs": [],
   "source": [
    "driver.get('https://www.amazon.in/')"
   ]
  },
  {
   "cell_type": "code",
   "execution_count": 4,
   "id": "c99354cd",
   "metadata": {},
   "outputs": [
    {
     "name": "stdout",
     "output_type": "stream",
     "text": [
      "Enter the product name you want to search on Amazon Blazer for Women\n"
     ]
    }
   ],
   "source": [
    "# Taking user input for product search\n",
    "userinput=input(\"Enter the product name you want to search on Amazon \")"
   ]
  },
  {
   "cell_type": "code",
   "execution_count": 5,
   "id": "845b1883",
   "metadata": {},
   "outputs": [],
   "source": [
    "# writing the user input in search box\n",
    "searchbox= driver.find_element(By.XPATH,\"/html/body/div[1]/header/div/div[1]/div[2]/div/form/div[2]/div[1]/input\")\n",
    "searchbox.send_keys(userinput)"
   ]
  },
  {
   "cell_type": "code",
   "execution_count": 6,
   "id": "9df9964e",
   "metadata": {},
   "outputs": [],
   "source": [
    "# clicking on the search button\n",
    "searchbutton=driver.find_element(By.XPATH,\"/html/body/div[1]/header/div/div[1]/div[2]/div/form/div[3]/div/span/input\")\n",
    "searchbutton.click()"
   ]
  },
  {
   "cell_type": "markdown",
   "id": "f197b2ae",
   "metadata": {},
   "source": [
    "### 2. In the above question, now scrape the following details of each product listed in first 3 pages of your search results and save it in a data frame and csv. In case if any product has less than 3 pages in search results then scrape all the products available under that product name. Details to be scraped are: \"Brand  Name\", \"Name of the Product\", \"Price\", \"Return/Exchange\", \"Expected Delivery\", \"Availability\" and  “Product URL”. In case, if any of the details are missing for any of the product then replace it by “-“.  "
   ]
  },
  {
   "cell_type": "code",
   "execution_count": 8,
   "id": "a1164ad2",
   "metadata": {},
   "outputs": [],
   "source": [
    "# fetching URLs to open the pages \n",
    "url=[]\n",
    "start=0\n",
    "end=3\n",
    "for page in range(start,end):\n",
    "    u=driver.find_elements(By.XPATH,'//a[@class=\"a-link-normal s-underline-text s-underline-link-text s-link-style a-text-normal\"]')\n",
    "    for i in u:\n",
    "        url.append(i.get_attribute(\"href\"))\n",
    "    nextt=driver.find_element(By.XPATH,'//a[@class=\"s-pagination-item s-pagination-next s-pagination-button s-pagination-button-accessibility s-pagination-separator\"]')\n",
    "    nextt.click()\n",
    "    time.sleep(2)"
   ]
  },
  {
   "cell_type": "code",
   "execution_count": 9,
   "id": "83b16eeb",
   "metadata": {},
   "outputs": [
    {
     "data": {
      "text/plain": [
       "181"
      ]
     },
     "execution_count": 9,
     "metadata": {},
     "output_type": "execute_result"
    }
   ],
   "source": [
    "len(url)"
   ]
  },
  {
   "cell_type": "code",
   "execution_count": 10,
   "id": "be3d958f",
   "metadata": {},
   "outputs": [],
   "source": [
    "# creating empty lists\n",
    "brands = []\n",
    "product_names = []\n",
    "prices = []\n",
    "returns_exchanges = []\n",
    "expected_deliveries = []\n",
    "availabilities = []"
   ]
  },
  {
   "cell_type": "code",
   "execution_count": 11,
   "id": "7e3041f8",
   "metadata": {},
   "outputs": [],
   "source": [
    "# scraping required data\n",
    "for i in url:\n",
    "    driver.get(i)\n",
    "    time.sleep(3)\n",
    "        \n",
    "     # scraping brand name \n",
    "    try:\n",
    "        brand = driver.find_element(By.XPATH,'/html/body/div[2]/div[1]/div/div[7]/div[1]/div[2]/div[2]/div/div/div[1]/div[1]/div[1]/div/div/a')\n",
    "        brands.append(brand.text)\n",
    "    except:\n",
    "        brands.append('-')\n",
    "        \n",
    "    # scraping product name \n",
    "    try:\n",
    "        product = driver.find_element(By.XPATH,'//span[@class=\"a-size-large product-title-word-break\"]')\n",
    "        product_names.append(product.text)\n",
    "    except:\n",
    "        product_names.append('-')\n",
    "        \n",
    "     # scraping prices \n",
    "    try:\n",
    "        price = driver.find_element(By.XPATH,'/html/body/div[2]/div[1]/div/div[7]/div[1]/div[2]/div[2]/div/div/div[1]/div[3]/div/div/div[4]/div[1]/span[3]/span[2]/span[2]')\n",
    "        prices.append(price.text)\n",
    "    except:\n",
    "        prices.append('-')\n",
    "        \n",
    "     # scraping returns/exchanges \n",
    "    try:\n",
    "        returns = driver.find_element(By.XPATH,'/html/body/div[2]/div[1]/div/div[7]/div[1]/div[2]/div[2]/div/div/div[1]/div[14]/div[2]/div/div/div/div[1]/span/div[2]/span')\n",
    "        returns_exchanges.append(returns.text)\n",
    "    except:\n",
    "        returns_exchanges.append('-')\n",
    "        \n",
    "    # scraping expected delievery \n",
    "    try:\n",
    "        expdel = driver.find_element(By.XPATH,'/html/body/div[2]/div[1]/div/div[7]/div[1]/div[2]/div[2]/div/div/div[2]/div[3]/div/div[1]/div/div/div/form/div/div/div/div/div[4]/div/div[3]/div[10]/div[1]/div/div/div/span/span[1]')\n",
    "        expected_deliveries.append(expdel.text)\n",
    "    except:\n",
    "        expected_deliveries.append('-')\n",
    "        \n",
    "    # scraping availibilities \n",
    "    try:\n",
    "        avail = driver.find_element(By.XPATH,'//span[@class=\"a-size-medium a-color-success\"]')\n",
    "        availabilities.append(avail.text)\n",
    "    except:\n",
    "        availabilities.append('-')"
   ]
  },
  {
   "cell_type": "code",
   "execution_count": 13,
   "id": "6088c496",
   "metadata": {},
   "outputs": [
    {
     "name": "stdout",
     "output_type": "stream",
     "text": [
      "181 181 181 181 181 181\n"
     ]
    }
   ],
   "source": [
    "print(len(brands), len(product_names),len(prices), len(returns_exchanges), len(expected_deliveries), len(availabilities))"
   ]
  },
  {
   "cell_type": "code",
   "execution_count": 14,
   "id": "3eb3fe79",
   "metadata": {},
   "outputs": [],
   "source": [
    "# creating the dataframe for the scraped elements\n",
    "Blazer=pd.DataFrame({'Brands':brands,'Product Names':product_names,'Prices':prices,'Exchange':returns_exchanges,'Expected Delivery':expected_deliveries,'Availabilities':availabilities,'URL':url})"
   ]
  },
  {
   "cell_type": "code",
   "execution_count": 15,
   "id": "668ebd19",
   "metadata": {},
   "outputs": [
    {
     "name": "stdout",
     "output_type": "stream",
     "text": [
      "                       Brands  \\\n",
      "0            Brand: Channel-F   \n",
      "1       Visit the KOTTY Store   \n",
      "2       Visit the Nifty Store   \n",
      "3    Visit the Rachyati Store   \n",
      "4       Visit the KOTTY Store   \n",
      "..                        ...   \n",
      "176           Brand: BEATISHA   \n",
      "177     Visit the KOTTY Store   \n",
      "178             Brand: ROCKSY   \n",
      "179     Visit the KOTTY Store   \n",
      "180     Visit the KOTTY Store   \n",
      "\n",
      "                                         Product Names Prices  \\\n",
      "0    Channel-F Women's Regular Fit Formal Stylish B...  1,399   \n",
      "1    KOTTY Women's Single Breasted Relaxed Fit Shaw...    339   \n",
      "2                          Nifty Women's Formal Blazer    599   \n",
      "3     Rachyati Women's Cotton Modern Fit Casual Blazer    679   \n",
      "4    KOTTY Women's Single Breasted Relaxed Fit Shaw...    339   \n",
      "..                                                 ...    ...   \n",
      "176  BEATISHA Bodycon Multicolor Dress for Women Mu...    649   \n",
      "177  KOTTY Women's Solid Relaxed Fit Full Sleeve Co...    499   \n",
      "178  ROCKSY Smart Casual Formal Blazer for Women, R...    999   \n",
      "179  KOTTY Women's Single Breasted Relaxed Fit Mand...    339   \n",
      "180  KOTTY Women's Solid Co-ord Blazer and Trouser ...    499   \n",
      "\n",
      "                      Exchange   Expected Delivery Availabilities  \\\n",
      "0    10 days Return & Exchange  Wednesday, 3 April       In stock   \n",
      "1                            -    Sunday, 31 March       In stock   \n",
      "2                            -    Sunday, 31 March              -   \n",
      "3    10 days Return & Exchange     Monday, 1 April       In stock   \n",
      "4                            -    Sunday, 31 March       In stock   \n",
      "..                         ...                 ...            ...   \n",
      "176  10 days Return & Exchange     Monday, 1 April       In stock   \n",
      "177                          -    Sunday, 31 March              -   \n",
      "178  10 days Return & Exchange  Wednesday, 3 April       In stock   \n",
      "179                          -    Sunday, 31 March       In stock   \n",
      "180                          -    Sunday, 31 March              -   \n",
      "\n",
      "                                                   URL  \n",
      "0    https://www.amazon.in/sspa/click?ie=UTF8&spc=M...  \n",
      "1    https://www.amazon.in/sspa/click?ie=UTF8&spc=M...  \n",
      "2    https://www.amazon.in/sspa/click?ie=UTF8&spc=M...  \n",
      "3    https://www.amazon.in/sspa/click?ie=UTF8&spc=M...  \n",
      "4    https://www.amazon.in/KOTTY-Womens-Single-Brea...  \n",
      "..                                                 ...  \n",
      "176  https://www.amazon.in/BEATISHA-Bodycon-Multico...  \n",
      "177  https://www.amazon.in/sspa/click?ie=UTF8&spc=M...  \n",
      "178  https://www.amazon.in/sspa/click?ie=UTF8&spc=M...  \n",
      "179  https://www.amazon.in/sspa/click?ie=UTF8&spc=M...  \n",
      "180  https://www.amazon.in/sspa/click?ie=UTF8&spc=M...  \n",
      "\n",
      "[181 rows x 7 columns]\n"
     ]
    }
   ],
   "source": [
    "print(Blazer)"
   ]
  },
  {
   "cell_type": "code",
   "execution_count": null,
   "id": "5c9dc04b",
   "metadata": {},
   "outputs": [],
   "source": [
    "# saving the file as csv\n",
    "Blazer.to_csv('Blazer.csv')"
   ]
  },
  {
   "cell_type": "code",
   "execution_count": 9,
   "id": "099e6975",
   "metadata": {},
   "outputs": [],
   "source": [
    "driver.quit()"
   ]
  },
  {
   "cell_type": "markdown",
   "id": "36498db9",
   "metadata": {},
   "source": [
    "### 3. Write a python program to access the search bar and search button on images.google.com and scrape 10 images each for keyword ‘Cakes’.  "
   ]
  },
  {
   "cell_type": "code",
   "execution_count": 2,
   "id": "21d3cddf",
   "metadata": {},
   "outputs": [],
   "source": [
    "driver=webdriver.Chrome()"
   ]
  },
  {
   "cell_type": "code",
   "execution_count": 3,
   "id": "0a3cfcb9",
   "metadata": {},
   "outputs": [],
   "source": [
    "driver.get(\"https://images.google.com/\")"
   ]
  },
  {
   "cell_type": "code",
   "execution_count": 4,
   "id": "b2a09d36",
   "metadata": {},
   "outputs": [],
   "source": [
    "searchcake=driver.find_element(By.XPATH,'//textarea[@class=\"gLFyf\"]')\n",
    "searchcake.send_keys('Cakes')"
   ]
  },
  {
   "cell_type": "code",
   "execution_count": 6,
   "id": "eb6cd2e3",
   "metadata": {},
   "outputs": [],
   "source": [
    "clickk=driver.find_element(By.XPATH,'//span[@class=\"z1asCe MZy1Rb\"]')\n",
    "clickk.click()"
   ]
  },
  {
   "cell_type": "code",
   "execution_count": 8,
   "id": "5d42d308",
   "metadata": {},
   "outputs": [],
   "source": [
    "import requests"
   ]
  },
  {
   "cell_type": "code",
   "execution_count": 10,
   "id": "581e195e",
   "metadata": {},
   "outputs": [
    {
     "name": "stdout",
     "output_type": "stream",
     "text": [
      "Downloading 0 of 10 images\n",
      "Downloading 1 of 10 images\n",
      "Downloading 2 of 10 images\n",
      "Downloading 3 of 10 images\n",
      "Downloading 4 of 10 images\n",
      "Downloading 5 of 10 images\n",
      "Downloading 6 of 10 images\n",
      "Downloading 7 of 10 images\n",
      "Downloading 8 of 10 images\n",
      "Downloading 9 of 10 images\n",
      "Downloading 10 of 10 images\n"
     ]
    }
   ],
   "source": [
    "for _ in range(20):\n",
    "    driver.execute_script(\"window.scrollBy(0,500)\")\n",
    "    \n",
    "imgurls=[]\n",
    "images=driver.find_elements(By.XPATH,'//img[@class=\"rg_i Q4LuWd\"]')\n",
    "for img in images:\n",
    "    source=img.get_attribute('src')\n",
    "    if source is not None:\n",
    "        if(source[0:4]=='http'):\n",
    "            imgurls.append(source)\n",
    "            \n",
    "for i in range(len(imgurls)):\n",
    "    if i >10:\n",
    "        break\n",
    "    print('Downloading {0} of {1} images'.format(i,10))\n",
    "    response=requests.get(imgurls[i])\n",
    "    file=open(r\"C:\\Users\\Lucif\\OneDrive\\Desktop\"+str(i)+\".jpg\",\"wb\")\n",
    "    file.write(response.content)"
   ]
  },
  {
   "cell_type": "code",
   "execution_count": 12,
   "id": "564ef0b3",
   "metadata": {},
   "outputs": [],
   "source": [
    "driver.close()"
   ]
  },
  {
   "cell_type": "markdown",
   "id": "8b160f60",
   "metadata": {},
   "source": [
    "### 4. Write a python program to search for a smartphone(e.g.: Oneplus Nord, pixel 4A, etc.) on www.flipkart.com and scrape following details for all the search results displayed on 1st page. Details to be scraped: “Brand Name”, “Smartphone name”, “Colour”, “RAM”, “Storage(ROM)”, “Primary Camera”,  “Secondary Camera”, “Display Size”, “Battery Capacity”, “Price”, “Product URL”. Incase if any of the details is missing then replace it by “- “. Save your results in a dataframe and CSV.  "
   ]
  },
  {
   "cell_type": "code",
   "execution_count": 2,
   "id": "9cb81cbd",
   "metadata": {},
   "outputs": [],
   "source": [
    "driver=webdriver.Chrome()"
   ]
  },
  {
   "cell_type": "code",
   "execution_count": 3,
   "id": "1f99fcfc",
   "metadata": {},
   "outputs": [],
   "source": [
    "driver.get(\"https://www.flipkart.com/\")"
   ]
  },
  {
   "cell_type": "code",
   "execution_count": 5,
   "id": "857e9df1",
   "metadata": {},
   "outputs": [],
   "source": [
    "google=driver.find_element(By.XPATH,\"/html/body/div/div/div[1]/div[1]/div[2]/div[2]/form/div/div/input\")\n",
    "google.send_keys(\"Google Pixel 8 Pro\")"
   ]
  },
  {
   "cell_type": "code",
   "execution_count": 10,
   "id": "6d216a17",
   "metadata": {},
   "outputs": [],
   "source": [
    "searchh=driver.find_element(By.XPATH,'//button[@class=\"L0Z3Pu\"]')\n",
    "searchh.click()"
   ]
  },
  {
   "cell_type": "code",
   "execution_count": 11,
   "id": "b14f6954",
   "metadata": {},
   "outputs": [],
   "source": [
    "# fetching 1st page of URLs of smartphone\n",
    "pageurl = []\n",
    "urls = driver.find_elements(By.XPATH,'//a[@class=\"_1fQZEK\"]')\n",
    "for url in urls:\n",
    "    pageurl.append(url.get_attribute('href'))"
   ]
  },
  {
   "cell_type": "code",
   "execution_count": 12,
   "id": "ce6dd666",
   "metadata": {},
   "outputs": [
    {
     "data": {
      "text/plain": [
       "21"
      ]
     },
     "execution_count": 12,
     "metadata": {},
     "output_type": "execute_result"
    }
   ],
   "source": [
    "len(pageurl)"
   ]
  },
  {
   "cell_type": "code",
   "execution_count": 13,
   "id": "f0ae2606",
   "metadata": {},
   "outputs": [],
   "source": [
    "# creating empty list\n",
    "Smartphones = ({})\n",
    "Smartphones['Brand'] = []\n",
    "Smartphones['Phone name'] = []\n",
    "Smartphones['Colour'] = []\n",
    "Smartphones['RAM'] = []\n",
    "Smartphones['Storage(ROM)'] = []\n",
    "Smartphones['Primary Camera'] = []\n",
    "Smartphones['Secondary Camera'] = []\n",
    "Smartphones['Display Size'] = []\n",
    "Smartphones['Battery Capacity'] = []\n",
    "Smartphones['Price'] = []\n",
    "Smartphones['URL'] = []"
   ]
  },
  {
   "cell_type": "code",
   "execution_count": 18,
   "id": "155cbf86",
   "metadata": {},
   "outputs": [],
   "source": [
    "# scraping required data\n",
    "for i in pageurl:\n",
    "    driver.get(i)\n",
    "    Smartphones['URL'].append(url)\n",
    "    time.sleep(3)\n",
    "        \n",
    "    # clicking on read more button to get more information\n",
    "    try:\n",
    "        read_more = driver.find_elements(By.XPATH,'//button[@class=\"_2KpZ6l _1FH0tX\"]')\n",
    "        read_more[0].click()\n",
    "    except NoSuchElementException:\n",
    "        print(\"Exception occured while moving to next page\")\n",
    "        \n",
    "    #scraping brand name of smartphone\n",
    "    try:\n",
    "        brand = driver.find_element(By.XPATH,'//span[@class=\"B_NuCI\"]')\n",
    "        Smartphones['Brand'].append(brand.text.split()[0])\n",
    "    except NoSuchElementException:\n",
    "        Smartphones['Brand'].append('-')\n",
    "        \n",
    "    # scraping name of smartphones\n",
    "    try:\n",
    "        name = driver.find_element(By.XPATH,'//span[@class=\"B_NuCI\"]')\n",
    "        Smartphones['Phone name'].append(name.text)\n",
    "    except NoSuchElementException:\n",
    "        Smartphones['Phone name'].append('-')\n",
    "        \n",
    "     #scraping colour of smartphone\n",
    "    try:\n",
    "        color = driver.find_element(By.XPATH,'/html/body/div[1]/div/div[3]/div[1]/div[2]/div[9]/div[5]/div/div[2]/div[1]/div[1]/table/tbody/tr[4]/td[2]/ul/li')\n",
    "        Smartphones['Colour'].append(color.text)\n",
    "    except NoSuchElementException:\n",
    "        Smartphones['Colour'].append('-')\n",
    "        \n",
    "    # scraping RAM data of smartphone\n",
    "    try:\n",
    "        ram_info = driver.find_element(By.XPATH,'//div[@class=\"_2418kt\"]/ul/li[1]')\n",
    "        ram = ram_info.text.split('|')[0].strip()\n",
    "        Smartphones['RAM'].append(ram)\n",
    "    except NoSuchElementException:\n",
    "        Smartphones['RAM'].append('-')\n",
    "        \n",
    "    #scraping ROM data of smartphones\n",
    "    try:\n",
    "        rom_info = driver.find_element(By.XPATH,'//div[@class=\"_2418kt\"]/ul/li[1]')\n",
    "        rom = rom_info.text.split('|')[1].strip()  # Extracting ROM information only\n",
    "        Smartphones['Storage(ROM)'].append(rom)\n",
    "    except NoSuchElementException:\n",
    "        Smartphones['Storage(ROM)'].append('-')\n",
    "        \n",
    "    # scraping  Primary camera data of smartphone\n",
    "    try:\n",
    "        pri =driver.find_element(By.XPATH,'/html/body/div[1]/div/div[3]/div[1]/div[2]/div[9]/div[5]/div/div[2]/div[1]/div[5]/table/tbody/tr[2]/td[2]/ul/li')\n",
    "        Smartphones['Primary Camera'].append(pri.text)\n",
    "    except NoSuchElementException:\n",
    "        Smartphones['Primary Camera'].append('-')\n",
    "        \n",
    "    # scraping  Secandory camera data of smartphone\n",
    "    try:\n",
    "        sec =driver.find_element(By.XPATH,'/html/body/div[1]/div/div[3]/div[1]/div[2]/div[9]/div[5]/div/div[2]/div[1]/div[5]/table/tbody/tr[5]/td[2]/ul/li')\n",
    "        Smartphones['Secondary Camera'].append(sec.text)\n",
    "    except NoSuchElementException:\n",
    "        Smartphones['Secondary Camera'].append('-')\n",
    "        \n",
    "    # scraping  Display Size data of smartphone\n",
    "    try:\n",
    "        ds =driver.find_element(By.XPATH,'/html/body/div[1]/div/div[3]/div[1]/div[2]/div[9]/div[5]/div/div[2]/div[1]/div[2]/table/tbody/tr[1]/td[2]/ul/li')\n",
    "        Smartphones['Display Size'].append(ds.text)\n",
    "    except NoSuchElementException:\n",
    "        Smartphones['Display Size'].append('-')\n",
    "        \n",
    "    # scraping Battery Capacity data of smartphone\n",
    "    try:\n",
    "        bs =driver.find_element(By.XPATH,'/html/body/div[1]/div/div[3]/div[1]/div[2]/div[9]/div[5]/div/div[2]/div[1]/div[8]/table/tbody/tr/td[2]/ul/li')\n",
    "        Smartphones['Battery Capacity'].append(bs.text)\n",
    "    except NoSuchElementException:\n",
    "        Smartphones['Battery Capacity'].append('-')\n",
    "        \n",
    "    # scraping Price data of smartphone\n",
    "    try:\n",
    "        p =driver.find_element(By.XPATH,'//div[@class=\"_30jeq3 _16Jk6d\"]')\n",
    "        Smartphones['Price'].append(p.text)\n",
    "    except NoSuchElementException:\n",
    "        Smartphones['Price'].append('-')\n",
    "        \n",
    "             "
   ]
  },
  {
   "cell_type": "code",
   "execution_count": 19,
   "id": "331de594",
   "metadata": {},
   "outputs": [
    {
     "name": "stdout",
     "output_type": "stream",
     "text": [
      "24 24 24 23 21 21 21 21 21 21 25\n"
     ]
    }
   ],
   "source": [
    "# checking lengths of all scraped data\n",
    "\n",
    "print(len(Smartphones['Brand']),len(Smartphones['Phone name']), len(Smartphones['Colour']),len(Smartphones['RAM']),len(Smartphones['Storage(ROM)']),len(Smartphones['Primary Camera']),len(Smartphones['Secondary Camera']), len(Smartphones['Display Size']), len(Smartphones['Battery Capacity']), len(Smartphones['Price']), len(Smartphones['URL'])) "
   ]
  },
  {
   "cell_type": "code",
   "execution_count": 21,
   "id": "30b9a37e",
   "metadata": {},
   "outputs": [
    {
     "name": "stdout",
     "output_type": "stream",
     "text": [
      "25 25 25 25 25 25 25 25 25 25 25\n"
     ]
    }
   ],
   "source": [
    "# Calculate the maximum length among all lists\n",
    "max_length = max(len(Smartphones['Brand']), len(Smartphones['Phone name']), len(Smartphones['Colour']), len(Smartphones['RAM']), len(Smartphones['Storage(ROM)']), len(Smartphones['Primary Camera']), len(Smartphones['Secondary Camera']), len(Smartphones['Display Size']), len(Smartphones['Battery Capacity']), len(Smartphones['Price']), len(Smartphones['URL']))\n",
    "\n",
    "# Extend all lists to match the maximum length by appending '-' as a placeholder\n",
    "for key in Smartphones:\n",
    "    Smartphones[key] += ['-'] * (max_length - len(Smartphones[key]))\n",
    "\n",
    "# Check the lengths of all lists after alignment\n",
    "print(len(Smartphones['Brand']), len(Smartphones['Phone name']), len(Smartphones['Colour']), len(Smartphones['RAM']), len(Smartphones['Storage(ROM)']), len(Smartphones['Primary Camera']), len(Smartphones['Secondary Camera']), len(Smartphones['Display Size']), len(Smartphones['Battery Capacity']), len(Smartphones['Price']), len(Smartphones['URL']))"
   ]
  },
  {
   "cell_type": "code",
   "execution_count": 22,
   "id": "3fc435dc",
   "metadata": {},
   "outputs": [
    {
     "data": {
      "text/html": [
       "<div>\n",
       "<style scoped>\n",
       "    .dataframe tbody tr th:only-of-type {\n",
       "        vertical-align: middle;\n",
       "    }\n",
       "\n",
       "    .dataframe tbody tr th {\n",
       "        vertical-align: top;\n",
       "    }\n",
       "\n",
       "    .dataframe thead th {\n",
       "        text-align: right;\n",
       "    }\n",
       "</style>\n",
       "<table border=\"1\" class=\"dataframe\">\n",
       "  <thead>\n",
       "    <tr style=\"text-align: right;\">\n",
       "      <th></th>\n",
       "      <th>Brand</th>\n",
       "      <th>Phone name</th>\n",
       "      <th>Colour</th>\n",
       "      <th>RAM</th>\n",
       "      <th>Storage(ROM)</th>\n",
       "      <th>Primary Camera</th>\n",
       "      <th>Secondary Camera</th>\n",
       "      <th>Display Size</th>\n",
       "      <th>Battery Capacity</th>\n",
       "      <th>Price</th>\n",
       "      <th>URL</th>\n",
       "    </tr>\n",
       "  </thead>\n",
       "  <tbody>\n",
       "    <tr>\n",
       "      <th>0</th>\n",
       "      <td>Google</td>\n",
       "      <td>Google Pixel 8 Pro (Bay, 128 GB)  (12 GB RAM)</td>\n",
       "      <td>Bay</td>\n",
       "      <td>12 GB RAM</td>\n",
       "      <td>128 GB ROM</td>\n",
       "      <td>50MP + 48MP + 48MP</td>\n",
       "      <td>10.5MP Front Camera</td>\n",
       "      <td>17.02 cm (6.7 inch)</td>\n",
       "      <td>5050 mAh</td>\n",
       "      <td>₹1,06,999</td>\n",
       "      <td>&lt;selenium.webdriver.remote.webelement.WebEleme...</td>\n",
       "    </tr>\n",
       "    <tr>\n",
       "      <th>1</th>\n",
       "      <td>Google</td>\n",
       "      <td>Google Pixel 8 Pro (Bay, 128 GB)  (12 GB RAM)</td>\n",
       "      <td>Bay</td>\n",
       "      <td>12 GB RAM</td>\n",
       "      <td>128 GB ROM</td>\n",
       "      <td>50MP + 48MP + 48MP</td>\n",
       "      <td>10.5MP Front Camera</td>\n",
       "      <td>17.02 cm (6.7 inch)</td>\n",
       "      <td>5050 mAh</td>\n",
       "      <td>₹1,06,999</td>\n",
       "      <td>&lt;selenium.webdriver.remote.webelement.WebEleme...</td>\n",
       "    </tr>\n",
       "    <tr>\n",
       "      <th>2</th>\n",
       "      <td>Google</td>\n",
       "      <td>Google Pixel 8 Pro (Bay, 128 GB)  (12 GB RAM)</td>\n",
       "      <td>Bay</td>\n",
       "      <td>12 GB RAM</td>\n",
       "      <td>256 GB ROM</td>\n",
       "      <td>50MP + 48MP + 48MP</td>\n",
       "      <td>10.5MP Front Camera</td>\n",
       "      <td>17.02 cm (6.7 inch)</td>\n",
       "      <td>5050 mAh</td>\n",
       "      <td>₹1,13,999</td>\n",
       "      <td>&lt;selenium.webdriver.remote.webelement.WebEleme...</td>\n",
       "    </tr>\n",
       "    <tr>\n",
       "      <th>3</th>\n",
       "      <td>Google</td>\n",
       "      <td>Google Pixel 8 Pro (Bay, 128 GB)  (12 GB RAM)</td>\n",
       "      <td>Bay</td>\n",
       "      <td>12 GB RAM</td>\n",
       "      <td>128 GB ROM</td>\n",
       "      <td>64MP (OIS) + 13MP</td>\n",
       "      <td>Primary Camera</td>\n",
       "      <td>15.49 cm (6.1 inch)</td>\n",
       "      <td>4300 mAh</td>\n",
       "      <td>₹38,999</td>\n",
       "      <td>&lt;selenium.webdriver.remote.webelement.WebEleme...</td>\n",
       "    </tr>\n",
       "    <tr>\n",
       "      <th>4</th>\n",
       "      <td>Google</td>\n",
       "      <td>Google Pixel 8 Pro (Obsidian, 128 GB)  (12 GB ...</td>\n",
       "      <td>Obsidian</td>\n",
       "      <td>12 GB RAM</td>\n",
       "      <td>128 GB ROM</td>\n",
       "      <td>64MP (OIS) + 13MP</td>\n",
       "      <td>Primary Camera</td>\n",
       "      <td>15.49 cm (6.1 inch)</td>\n",
       "      <td>4300 mAh</td>\n",
       "      <td>₹38,999</td>\n",
       "      <td>&lt;selenium.webdriver.remote.webelement.WebEleme...</td>\n",
       "    </tr>\n",
       "    <tr>\n",
       "      <th>5</th>\n",
       "      <td>Google</td>\n",
       "      <td>Google Pixel 8 Pro (Obsidian, 256 GB)  (12 GB ...</td>\n",
       "      <td>Obsidian</td>\n",
       "      <td>8 GB RAM</td>\n",
       "      <td>128 GB ROM</td>\n",
       "      <td>64MP (OIS) + 13MP</td>\n",
       "      <td>Primary Camera</td>\n",
       "      <td>15.49 cm (6.1 inch)</td>\n",
       "      <td>4300 mAh</td>\n",
       "      <td>₹38,999</td>\n",
       "      <td>&lt;selenium.webdriver.remote.webelement.WebEleme...</td>\n",
       "    </tr>\n",
       "    <tr>\n",
       "      <th>6</th>\n",
       "      <td>Google</td>\n",
       "      <td>Google Pixel 7a (Coral, 128 GB)  (8 GB RAM)</td>\n",
       "      <td>Coral</td>\n",
       "      <td>8 GB RAM</td>\n",
       "      <td>128 GB ROM</td>\n",
       "      <td>64MP (OIS) + 13MP</td>\n",
       "      <td>Primary Camera</td>\n",
       "      <td>15.49 cm (6.1 inch)</td>\n",
       "      <td>4300 mAh</td>\n",
       "      <td>₹38,999</td>\n",
       "      <td>&lt;selenium.webdriver.remote.webelement.WebEleme...</td>\n",
       "    </tr>\n",
       "    <tr>\n",
       "      <th>7</th>\n",
       "      <td>Google</td>\n",
       "      <td>Google Pixel 7a (Snow, 128 GB)  (8 GB RAM)</td>\n",
       "      <td>Snow</td>\n",
       "      <td>8 GB RAM</td>\n",
       "      <td>128 GB ROM</td>\n",
       "      <td>50MP + 12MP</td>\n",
       "      <td>10.8MP Front Camera</td>\n",
       "      <td>16.0 cm (6.3 inch)</td>\n",
       "      <td>Yes</td>\n",
       "      <td>₹44,999</td>\n",
       "      <td>&lt;selenium.webdriver.remote.webelement.WebEleme...</td>\n",
       "    </tr>\n",
       "    <tr>\n",
       "      <th>8</th>\n",
       "      <td>Google</td>\n",
       "      <td>Google Pixel 7a (Sea, 128 GB)  (8 GB RAM)</td>\n",
       "      <td>Sea</td>\n",
       "      <td>8 GB RAM</td>\n",
       "      <td>128 GB ROM</td>\n",
       "      <td>50MP + 12MP</td>\n",
       "      <td>10.8MP Front Camera</td>\n",
       "      <td>16.0 cm (6.3 inch)</td>\n",
       "      <td>Yes</td>\n",
       "      <td>₹44,999</td>\n",
       "      <td>&lt;selenium.webdriver.remote.webelement.WebEleme...</td>\n",
       "    </tr>\n",
       "    <tr>\n",
       "      <th>9</th>\n",
       "      <td>Google</td>\n",
       "      <td>Google Pixel 7a (Charcoal, 128 GB)  (8 GB RAM)</td>\n",
       "      <td>Charcoal</td>\n",
       "      <td>8 GB RAM</td>\n",
       "      <td>128 GB ROM</td>\n",
       "      <td>50MP + 12MP</td>\n",
       "      <td>10.8MP Front Camera</td>\n",
       "      <td>16.0 cm (6.3 inch)</td>\n",
       "      <td>Yes</td>\n",
       "      <td>₹44,999</td>\n",
       "      <td>&lt;selenium.webdriver.remote.webelement.WebEleme...</td>\n",
       "    </tr>\n",
       "    <tr>\n",
       "      <th>10</th>\n",
       "      <td>Google</td>\n",
       "      <td>Google Pixel 7 (Obsidian, 128 GB)  (8 GB RAM)</td>\n",
       "      <td>Obsidian</td>\n",
       "      <td>8 GB RAM</td>\n",
       "      <td>256 GB ROM</td>\n",
       "      <td>50MP + 12MP</td>\n",
       "      <td>10.5MP Front Camera</td>\n",
       "      <td>15.75 cm (6.2 inch)</td>\n",
       "      <td>4575 mAh</td>\n",
       "      <td>₹82,999</td>\n",
       "      <td>&lt;selenium.webdriver.remote.webelement.WebEleme...</td>\n",
       "    </tr>\n",
       "    <tr>\n",
       "      <th>11</th>\n",
       "      <td>Google</td>\n",
       "      <td>Google Pixel 7 (Snow, 128 GB)  (8 GB RAM)</td>\n",
       "      <td>Snow</td>\n",
       "      <td>8 GB RAM</td>\n",
       "      <td>128 GB ROM</td>\n",
       "      <td>50MP + 12MP</td>\n",
       "      <td>10.5MP Front Camera</td>\n",
       "      <td>15.75 cm (6.2 inch)</td>\n",
       "      <td>4575 mAh</td>\n",
       "      <td>₹75,999</td>\n",
       "      <td>&lt;selenium.webdriver.remote.webelement.WebEleme...</td>\n",
       "    </tr>\n",
       "    <tr>\n",
       "      <th>12</th>\n",
       "      <td>Google</td>\n",
       "      <td>Google Pixel 7 (Lemongrass, 128 GB)  (8 GB RAM)</td>\n",
       "      <td>Lemongrass</td>\n",
       "      <td>8 GB RAM</td>\n",
       "      <td>128 GB ROM</td>\n",
       "      <td>50MP + 12MP</td>\n",
       "      <td>10.5MP Front Camera</td>\n",
       "      <td>15.75 cm (6.2 inch)</td>\n",
       "      <td>4575 mAh</td>\n",
       "      <td>₹75,999</td>\n",
       "      <td>&lt;selenium.webdriver.remote.webelement.WebEleme...</td>\n",
       "    </tr>\n",
       "    <tr>\n",
       "      <th>13</th>\n",
       "      <td>Google</td>\n",
       "      <td>Google Pixel 8 (Hazel, 256 GB)  (8 GB RAM)</td>\n",
       "      <td>Hazel</td>\n",
       "      <td>8 GB RAM</td>\n",
       "      <td>128 GB ROM</td>\n",
       "      <td>50MP + 12MP</td>\n",
       "      <td>10.5MP Front Camera</td>\n",
       "      <td>15.75 cm (6.2 inch)</td>\n",
       "      <td>4575 mAh</td>\n",
       "      <td>₹75,999</td>\n",
       "      <td>&lt;selenium.webdriver.remote.webelement.WebEleme...</td>\n",
       "    </tr>\n",
       "    <tr>\n",
       "      <th>14</th>\n",
       "      <td>Google</td>\n",
       "      <td>Google Pixel 8 (Hazel, 128 GB)  (8 GB RAM)</td>\n",
       "      <td>Hazel</td>\n",
       "      <td>8 GB RAM</td>\n",
       "      <td>128 GB ROM</td>\n",
       "      <td>50MP + 48MP + 12MP</td>\n",
       "      <td>10.8MP Front Camera</td>\n",
       "      <td>17.02 cm (6.7 inch)</td>\n",
       "      <td>Yes</td>\n",
       "      <td>₹66,999</td>\n",
       "      <td>&lt;selenium.webdriver.remote.webelement.WebEleme...</td>\n",
       "    </tr>\n",
       "    <tr>\n",
       "      <th>15</th>\n",
       "      <td>Google</td>\n",
       "      <td>Google Pixel 8 (Rose, 128 GB)  (8 GB RAM)</td>\n",
       "      <td>Rose</td>\n",
       "      <td>8 GB RAM</td>\n",
       "      <td>128 GB ROM</td>\n",
       "      <td>50MP + 12MP</td>\n",
       "      <td>10.5MP Front Camera</td>\n",
       "      <td>15.75 cm (6.2 inch)</td>\n",
       "      <td>4575 mAh</td>\n",
       "      <td>₹75,999</td>\n",
       "      <td>&lt;selenium.webdriver.remote.webelement.WebEleme...</td>\n",
       "    </tr>\n",
       "    <tr>\n",
       "      <th>16</th>\n",
       "      <td>Google</td>\n",
       "      <td>Google Pixel 8 (Obsidian, 128 GB)  (8 GB RAM)</td>\n",
       "      <td>Obsidian</td>\n",
       "      <td>12 GB RAM</td>\n",
       "      <td>128 GB ROM</td>\n",
       "      <td>50MP + 48MP + 12MP</td>\n",
       "      <td>10.8MP Front Camera</td>\n",
       "      <td>17.02 cm (6.7 inch)</td>\n",
       "      <td>Yes</td>\n",
       "      <td>₹66,999</td>\n",
       "      <td>&lt;selenium.webdriver.remote.webelement.WebEleme...</td>\n",
       "    </tr>\n",
       "    <tr>\n",
       "      <th>17</th>\n",
       "      <td>Google</td>\n",
       "      <td>Google Pixel 7 Pro (Obsidian, 128 GB)  (12 GB ...</td>\n",
       "      <td>Obsidian</td>\n",
       "      <td>8 GB RAM</td>\n",
       "      <td>128 GB ROM</td>\n",
       "      <td>50MP + 48MP + 12MP</td>\n",
       "      <td>10.8MP Front Camera</td>\n",
       "      <td>17.02 cm (6.7 inch)</td>\n",
       "      <td>Yes</td>\n",
       "      <td>₹66,999</td>\n",
       "      <td>&lt;selenium.webdriver.remote.webelement.WebEleme...</td>\n",
       "    </tr>\n",
       "    <tr>\n",
       "      <th>18</th>\n",
       "      <td>Google</td>\n",
       "      <td>Google Pixel 8 (Mint, 128 GB)  (8 GB RAM)</td>\n",
       "      <td>Mint</td>\n",
       "      <td>12 GB RAM</td>\n",
       "      <td>128 GB ROM</td>\n",
       "      <td>-</td>\n",
       "      <td>-</td>\n",
       "      <td>-</td>\n",
       "      <td>-</td>\n",
       "      <td>₹43,999</td>\n",
       "      <td>&lt;selenium.webdriver.remote.webelement.WebEleme...</td>\n",
       "    </tr>\n",
       "    <tr>\n",
       "      <th>19</th>\n",
       "      <td>Google</td>\n",
       "      <td>Google Pixel 7 Pro (Snow, 128 GB)  (12 GB RAM)</td>\n",
       "      <td>Snow</td>\n",
       "      <td>12 GB RAM</td>\n",
       "      <td>128 GB ROM</td>\n",
       "      <td>-</td>\n",
       "      <td>-</td>\n",
       "      <td>-</td>\n",
       "      <td>-</td>\n",
       "      <td>₹43,999</td>\n",
       "      <td>&lt;selenium.webdriver.remote.webelement.WebEleme...</td>\n",
       "    </tr>\n",
       "    <tr>\n",
       "      <th>20</th>\n",
       "      <td>Google</td>\n",
       "      <td>Google Pixel 7 Pro (Hazel, 128 GB)  (12 GB RAM)</td>\n",
       "      <td>Hazel</td>\n",
       "      <td>6 GB RAM</td>\n",
       "      <td>128 GB ROM</td>\n",
       "      <td>-</td>\n",
       "      <td>-</td>\n",
       "      <td>-</td>\n",
       "      <td>-</td>\n",
       "      <td>₹80,000</td>\n",
       "      <td>&lt;selenium.webdriver.remote.webelement.WebEleme...</td>\n",
       "    </tr>\n",
       "    <tr>\n",
       "      <th>21</th>\n",
       "      <td>Google</td>\n",
       "      <td>Google Pixel 6a (Chalk, 128 GB)  (6 GB RAM)</td>\n",
       "      <td>-</td>\n",
       "      <td>6 GB RAM</td>\n",
       "      <td>-</td>\n",
       "      <td>-</td>\n",
       "      <td>-</td>\n",
       "      <td>-</td>\n",
       "      <td>-</td>\n",
       "      <td>-</td>\n",
       "      <td>&lt;selenium.webdriver.remote.webelement.WebEleme...</td>\n",
       "    </tr>\n",
       "    <tr>\n",
       "      <th>22</th>\n",
       "      <td>Google</td>\n",
       "      <td>Google Pixel 6a (Charcoal, 128 GB)  (6 GB RAM)</td>\n",
       "      <td>-</td>\n",
       "      <td>4 GB RAM</td>\n",
       "      <td>-</td>\n",
       "      <td>-</td>\n",
       "      <td>-</td>\n",
       "      <td>-</td>\n",
       "      <td>-</td>\n",
       "      <td>-</td>\n",
       "      <td>&lt;selenium.webdriver.remote.webelement.WebEleme...</td>\n",
       "    </tr>\n",
       "    <tr>\n",
       "      <th>23</th>\n",
       "      <td>Google</td>\n",
       "      <td>Google Pixel 3 (Not Pink, 128 GB)  (4 GB RAM)</td>\n",
       "      <td>-</td>\n",
       "      <td>-</td>\n",
       "      <td>-</td>\n",
       "      <td>-</td>\n",
       "      <td>-</td>\n",
       "      <td>-</td>\n",
       "      <td>-</td>\n",
       "      <td>-</td>\n",
       "      <td>&lt;selenium.webdriver.remote.webelement.WebEleme...</td>\n",
       "    </tr>\n",
       "    <tr>\n",
       "      <th>24</th>\n",
       "      <td>-</td>\n",
       "      <td>-</td>\n",
       "      <td>-</td>\n",
       "      <td>-</td>\n",
       "      <td>-</td>\n",
       "      <td>-</td>\n",
       "      <td>-</td>\n",
       "      <td>-</td>\n",
       "      <td>-</td>\n",
       "      <td>-</td>\n",
       "      <td>&lt;selenium.webdriver.remote.webelement.WebEleme...</td>\n",
       "    </tr>\n",
       "  </tbody>\n",
       "</table>\n",
       "</div>"
      ],
      "text/plain": [
       "     Brand                                         Phone name      Colour  \\\n",
       "0   Google      Google Pixel 8 Pro (Bay, 128 GB)  (12 GB RAM)         Bay   \n",
       "1   Google      Google Pixel 8 Pro (Bay, 128 GB)  (12 GB RAM)         Bay   \n",
       "2   Google      Google Pixel 8 Pro (Bay, 128 GB)  (12 GB RAM)         Bay   \n",
       "3   Google      Google Pixel 8 Pro (Bay, 128 GB)  (12 GB RAM)         Bay   \n",
       "4   Google  Google Pixel 8 Pro (Obsidian, 128 GB)  (12 GB ...    Obsidian   \n",
       "5   Google  Google Pixel 8 Pro (Obsidian, 256 GB)  (12 GB ...    Obsidian   \n",
       "6   Google        Google Pixel 7a (Coral, 128 GB)  (8 GB RAM)       Coral   \n",
       "7   Google         Google Pixel 7a (Snow, 128 GB)  (8 GB RAM)        Snow   \n",
       "8   Google          Google Pixel 7a (Sea, 128 GB)  (8 GB RAM)         Sea   \n",
       "9   Google     Google Pixel 7a (Charcoal, 128 GB)  (8 GB RAM)    Charcoal   \n",
       "10  Google      Google Pixel 7 (Obsidian, 128 GB)  (8 GB RAM)    Obsidian   \n",
       "11  Google          Google Pixel 7 (Snow, 128 GB)  (8 GB RAM)        Snow   \n",
       "12  Google    Google Pixel 7 (Lemongrass, 128 GB)  (8 GB RAM)  Lemongrass   \n",
       "13  Google         Google Pixel 8 (Hazel, 256 GB)  (8 GB RAM)       Hazel   \n",
       "14  Google         Google Pixel 8 (Hazel, 128 GB)  (8 GB RAM)       Hazel   \n",
       "15  Google          Google Pixel 8 (Rose, 128 GB)  (8 GB RAM)        Rose   \n",
       "16  Google      Google Pixel 8 (Obsidian, 128 GB)  (8 GB RAM)    Obsidian   \n",
       "17  Google  Google Pixel 7 Pro (Obsidian, 128 GB)  (12 GB ...    Obsidian   \n",
       "18  Google          Google Pixel 8 (Mint, 128 GB)  (8 GB RAM)        Mint   \n",
       "19  Google     Google Pixel 7 Pro (Snow, 128 GB)  (12 GB RAM)        Snow   \n",
       "20  Google    Google Pixel 7 Pro (Hazel, 128 GB)  (12 GB RAM)       Hazel   \n",
       "21  Google        Google Pixel 6a (Chalk, 128 GB)  (6 GB RAM)           -   \n",
       "22  Google     Google Pixel 6a (Charcoal, 128 GB)  (6 GB RAM)           -   \n",
       "23  Google      Google Pixel 3 (Not Pink, 128 GB)  (4 GB RAM)           -   \n",
       "24       -                                                  -           -   \n",
       "\n",
       "          RAM Storage(ROM)      Primary Camera     Secondary Camera  \\\n",
       "0   12 GB RAM   128 GB ROM  50MP + 48MP + 48MP  10.5MP Front Camera   \n",
       "1   12 GB RAM   128 GB ROM  50MP + 48MP + 48MP  10.5MP Front Camera   \n",
       "2   12 GB RAM   256 GB ROM  50MP + 48MP + 48MP  10.5MP Front Camera   \n",
       "3   12 GB RAM   128 GB ROM   64MP (OIS) + 13MP       Primary Camera   \n",
       "4   12 GB RAM   128 GB ROM   64MP (OIS) + 13MP       Primary Camera   \n",
       "5    8 GB RAM   128 GB ROM   64MP (OIS) + 13MP       Primary Camera   \n",
       "6    8 GB RAM   128 GB ROM   64MP (OIS) + 13MP       Primary Camera   \n",
       "7    8 GB RAM   128 GB ROM         50MP + 12MP  10.8MP Front Camera   \n",
       "8    8 GB RAM   128 GB ROM         50MP + 12MP  10.8MP Front Camera   \n",
       "9    8 GB RAM   128 GB ROM         50MP + 12MP  10.8MP Front Camera   \n",
       "10   8 GB RAM   256 GB ROM         50MP + 12MP  10.5MP Front Camera   \n",
       "11   8 GB RAM   128 GB ROM         50MP + 12MP  10.5MP Front Camera   \n",
       "12   8 GB RAM   128 GB ROM         50MP + 12MP  10.5MP Front Camera   \n",
       "13   8 GB RAM   128 GB ROM         50MP + 12MP  10.5MP Front Camera   \n",
       "14   8 GB RAM   128 GB ROM  50MP + 48MP + 12MP  10.8MP Front Camera   \n",
       "15   8 GB RAM   128 GB ROM         50MP + 12MP  10.5MP Front Camera   \n",
       "16  12 GB RAM   128 GB ROM  50MP + 48MP + 12MP  10.8MP Front Camera   \n",
       "17   8 GB RAM   128 GB ROM  50MP + 48MP + 12MP  10.8MP Front Camera   \n",
       "18  12 GB RAM   128 GB ROM                   -                    -   \n",
       "19  12 GB RAM   128 GB ROM                   -                    -   \n",
       "20   6 GB RAM   128 GB ROM                   -                    -   \n",
       "21   6 GB RAM            -                   -                    -   \n",
       "22   4 GB RAM            -                   -                    -   \n",
       "23          -            -                   -                    -   \n",
       "24          -            -                   -                    -   \n",
       "\n",
       "           Display Size Battery Capacity      Price  \\\n",
       "0   17.02 cm (6.7 inch)         5050 mAh  ₹1,06,999   \n",
       "1   17.02 cm (6.7 inch)         5050 mAh  ₹1,06,999   \n",
       "2   17.02 cm (6.7 inch)         5050 mAh  ₹1,13,999   \n",
       "3   15.49 cm (6.1 inch)         4300 mAh    ₹38,999   \n",
       "4   15.49 cm (6.1 inch)         4300 mAh    ₹38,999   \n",
       "5   15.49 cm (6.1 inch)         4300 mAh    ₹38,999   \n",
       "6   15.49 cm (6.1 inch)         4300 mAh    ₹38,999   \n",
       "7    16.0 cm (6.3 inch)              Yes    ₹44,999   \n",
       "8    16.0 cm (6.3 inch)              Yes    ₹44,999   \n",
       "9    16.0 cm (6.3 inch)              Yes    ₹44,999   \n",
       "10  15.75 cm (6.2 inch)         4575 mAh    ₹82,999   \n",
       "11  15.75 cm (6.2 inch)         4575 mAh    ₹75,999   \n",
       "12  15.75 cm (6.2 inch)         4575 mAh    ₹75,999   \n",
       "13  15.75 cm (6.2 inch)         4575 mAh    ₹75,999   \n",
       "14  17.02 cm (6.7 inch)              Yes    ₹66,999   \n",
       "15  15.75 cm (6.2 inch)         4575 mAh    ₹75,999   \n",
       "16  17.02 cm (6.7 inch)              Yes    ₹66,999   \n",
       "17  17.02 cm (6.7 inch)              Yes    ₹66,999   \n",
       "18                    -                -    ₹43,999   \n",
       "19                    -                -    ₹43,999   \n",
       "20                    -                -    ₹80,000   \n",
       "21                    -                -          -   \n",
       "22                    -                -          -   \n",
       "23                    -                -          -   \n",
       "24                    -                -          -   \n",
       "\n",
       "                                                  URL  \n",
       "0   <selenium.webdriver.remote.webelement.WebEleme...  \n",
       "1   <selenium.webdriver.remote.webelement.WebEleme...  \n",
       "2   <selenium.webdriver.remote.webelement.WebEleme...  \n",
       "3   <selenium.webdriver.remote.webelement.WebEleme...  \n",
       "4   <selenium.webdriver.remote.webelement.WebEleme...  \n",
       "5   <selenium.webdriver.remote.webelement.WebEleme...  \n",
       "6   <selenium.webdriver.remote.webelement.WebEleme...  \n",
       "7   <selenium.webdriver.remote.webelement.WebEleme...  \n",
       "8   <selenium.webdriver.remote.webelement.WebEleme...  \n",
       "9   <selenium.webdriver.remote.webelement.WebEleme...  \n",
       "10  <selenium.webdriver.remote.webelement.WebEleme...  \n",
       "11  <selenium.webdriver.remote.webelement.WebEleme...  \n",
       "12  <selenium.webdriver.remote.webelement.WebEleme...  \n",
       "13  <selenium.webdriver.remote.webelement.WebEleme...  \n",
       "14  <selenium.webdriver.remote.webelement.WebEleme...  \n",
       "15  <selenium.webdriver.remote.webelement.WebEleme...  \n",
       "16  <selenium.webdriver.remote.webelement.WebEleme...  \n",
       "17  <selenium.webdriver.remote.webelement.WebEleme...  \n",
       "18  <selenium.webdriver.remote.webelement.WebEleme...  \n",
       "19  <selenium.webdriver.remote.webelement.WebEleme...  \n",
       "20  <selenium.webdriver.remote.webelement.WebEleme...  \n",
       "21  <selenium.webdriver.remote.webelement.WebEleme...  \n",
       "22  <selenium.webdriver.remote.webelement.WebEleme...  \n",
       "23  <selenium.webdriver.remote.webelement.WebEleme...  \n",
       "24  <selenium.webdriver.remote.webelement.WebEleme...  "
      ]
     },
     "execution_count": 22,
     "metadata": {},
     "output_type": "execute_result"
    }
   ],
   "source": [
    "# framing the DataFrame\n",
    "\n",
    "df = pd.DataFrame.from_dict(Smartphones)\n",
    "df"
   ]
  },
  {
   "cell_type": "code",
   "execution_count": 23,
   "id": "d716b76c",
   "metadata": {},
   "outputs": [],
   "source": [
    "# saving the data in csv\n",
    "df.to_csv(\"smartphones.csv\")"
   ]
  },
  {
   "cell_type": "code",
   "execution_count": 25,
   "id": "359d1876",
   "metadata": {},
   "outputs": [],
   "source": [
    "driver.quit()"
   ]
  },
  {
   "cell_type": "markdown",
   "id": "18514680",
   "metadata": {},
   "source": [
    "### 5. Write a program to scrap geospatial coordinates (latitude, longitude) of a city searched on google maps."
   ]
  },
  {
   "cell_type": "code",
   "execution_count": 2,
   "id": "93cdb1b5",
   "metadata": {},
   "outputs": [],
   "source": [
    "driver=webdriver.Chrome()"
   ]
  },
  {
   "cell_type": "code",
   "execution_count": 3,
   "id": "d4acd7dc",
   "metadata": {},
   "outputs": [],
   "source": [
    "driver.get(\"https://www.google.com/maps/\")"
   ]
  },
  {
   "cell_type": "code",
   "execution_count": 5,
   "id": "1a831791",
   "metadata": {},
   "outputs": [],
   "source": [
    "city=driver.find_element(By.XPATH,'/html/body/div[1]/div[3]/div[8]/div[3]/div[1]/div[1]/div/div[2]/form/input')\n",
    "city.send_keys('Mathura Uttar Pradesh')"
   ]
  },
  {
   "cell_type": "code",
   "execution_count": 6,
   "id": "12cefc00",
   "metadata": {},
   "outputs": [],
   "source": [
    "searchh=driver.find_element(By.XPATH,'/html/body/div[1]/div[3]/div[8]/div[3]/div[1]/div[1]/div/div[2]/div[1]/button/span')\n",
    "searchh.click()"
   ]
  },
  {
   "cell_type": "code",
   "execution_count": 7,
   "id": "80286312",
   "metadata": {},
   "outputs": [],
   "source": [
    "import regex as re"
   ]
  },
  {
   "cell_type": "code",
   "execution_count": 10,
   "id": "b5358c9b",
   "metadata": {},
   "outputs": [
    {
     "name": "stdout",
     "output_type": "stream",
     "text": [
      "URL Extracted https://www.google.com/maps/place/Mathura,+Uttar+Pradesh/@27.4743744,77.6841546,12z/data=!3m1!4b1!4m6!3m5!1s0x397371163d4d5205:0x4273a09defe10ea5!8m2!3d27.4924134!4d77.673673!16zL20vMDFwcng1?entry=ttu\n"
     ]
    }
   ],
   "source": [
    "# scraping url for latitude and longitude\n",
    "url_string=driver.current_url\n",
    "print(\"URL Extracted\",url_string)\n",
    "lat_lang=re.findall(r'@(.*)data',url_string)"
   ]
  },
  {
   "cell_type": "code",
   "execution_count": 11,
   "id": "37d572cd",
   "metadata": {},
   "outputs": [
    {
     "name": "stdout",
     "output_type": "stream",
     "text": [
      "['27.4743744,77.6841546,12z/']\n"
     ]
    }
   ],
   "source": [
    "print(lat_lang)"
   ]
  },
  {
   "cell_type": "code",
   "execution_count": 13,
   "id": "6458015a",
   "metadata": {},
   "outputs": [
    {
     "name": "stdout",
     "output_type": "stream",
     "text": [
      "Latitude: 27.4743744\n",
      "Longitude: 77.6841546\n"
     ]
    }
   ],
   "source": [
    "# Given list containing the string\n",
    "lat_lang = ['27.4743744,77.6841546,12z/']\n",
    "\n",
    "# Extracting the string from the list\n",
    "coordinates = lat_lang[0]\n",
    "\n",
    "# Split the string by comma\n",
    "lat_lon = coordinates.split(',')\n",
    "\n",
    "# Extract latitude and longitude\n",
    "latitude = lat_lon[0]\n",
    "longitude = lat_lon[1]\n",
    "\n",
    "# Print the extracted values\n",
    "print(\"Latitude:\", latitude)\n",
    "print(\"Longitude:\", longitude)"
   ]
  },
  {
   "cell_type": "code",
   "execution_count": 26,
   "id": "f268911b",
   "metadata": {},
   "outputs": [],
   "source": [
    "driver.quit()"
   ]
  },
  {
   "cell_type": "code",
   "execution_count": null,
   "id": "31d8504b",
   "metadata": {},
   "outputs": [],
   "source": []
  },
  {
   "cell_type": "code",
   "execution_count": null,
   "id": "f34a36b5",
   "metadata": {},
   "outputs": [],
   "source": []
  },
  {
   "cell_type": "code",
   "execution_count": null,
   "id": "8802d155",
   "metadata": {},
   "outputs": [],
   "source": []
  },
  {
   "cell_type": "code",
   "execution_count": null,
   "id": "41f89574",
   "metadata": {},
   "outputs": [],
   "source": []
  },
  {
   "cell_type": "code",
   "execution_count": null,
   "id": "79c514d8",
   "metadata": {},
   "outputs": [],
   "source": []
  },
  {
   "cell_type": "code",
   "execution_count": null,
   "id": "94f4269c",
   "metadata": {},
   "outputs": [],
   "source": []
  },
  {
   "cell_type": "code",
   "execution_count": null,
   "id": "a4004ee2",
   "metadata": {},
   "outputs": [],
   "source": []
  },
  {
   "cell_type": "code",
   "execution_count": null,
   "id": "c53670c2",
   "metadata": {},
   "outputs": [],
   "source": []
  }
 ],
 "metadata": {
  "kernelspec": {
   "display_name": "Python 3 (ipykernel)",
   "language": "python",
   "name": "python3"
  },
  "language_info": {
   "codemirror_mode": {
    "name": "ipython",
    "version": 3
   },
   "file_extension": ".py",
   "mimetype": "text/x-python",
   "name": "python",
   "nbconvert_exporter": "python",
   "pygments_lexer": "ipython3",
   "version": "3.10.9"
  }
 },
 "nbformat": 4,
 "nbformat_minor": 5
}
